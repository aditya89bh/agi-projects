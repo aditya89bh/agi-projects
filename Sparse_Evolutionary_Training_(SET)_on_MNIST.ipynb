{
  "nbformat": 4,
  "nbformat_minor": 0,
  "metadata": {
    "colab": {
      "provenance": []
    },
    "kernelspec": {
      "name": "python3",
      "display_name": "Python 3"
    },
    "language_info": {
      "name": "python"
    }
  },
  "cells": [
    {
      "cell_type": "code",
      "source": [
        "import torch\n",
        "import torch.nn as nn\n",
        "import torch.nn.functional as F\n",
        "import torchvision\n",
        "import torchvision.transforms as transforms\n",
        "import numpy as np\n",
        "import matplotlib.pyplot as plt\n",
        "\n",
        "device = torch.device('cuda' if torch.cuda.is_available() else 'cpu')\n",
        "print(\"Using device:\", device)\n"
      ],
      "metadata": {
        "colab": {
          "base_uri": "https://localhost:8080/"
        },
        "id": "5XangDp5vtQt",
        "outputId": "72b352b1-96e5-492c-cd17-009688518ca0"
      },
      "execution_count": 16,
      "outputs": [
        {
          "output_type": "stream",
          "name": "stdout",
          "text": [
            "Using device: cpu\n"
          ]
        }
      ]
    },
    {
      "cell_type": "code",
      "source": [
        "transform = transforms.Compose([\n",
        "    transforms.ToTensor()\n",
        "])\n",
        "\n",
        "train_set = torchvision.datasets.MNIST(\n",
        "    root='./data', train=True, download=True, transform=transform\n",
        ")\n",
        "\n",
        "test_set = torchvision.datasets.MNIST(\n",
        "    root='./data', train=False, download=True, transform=transform\n",
        ")\n",
        "\n",
        "train_loader = torch.utils.data.DataLoader(\n",
        "    train_set, batch_size=128, shuffle=True\n",
        ")\n",
        "\n",
        "test_loader = torch.utils.data.DataLoader(\n",
        "    test_set, batch_size=128, shuffle=False\n",
        ")\n",
        "\n",
        "print(\"MNIST loaded: \", len(train_set), \"training samples,\", len(test_set), \"test samples\")\n"
      ],
      "metadata": {
        "colab": {
          "base_uri": "https://localhost:8080/"
        },
        "id": "sMk9dcONv4gi",
        "outputId": "98002a00-b9cf-4b43-c8c2-35566416d697"
      },
      "execution_count": 17,
      "outputs": [
        {
          "output_type": "stream",
          "name": "stdout",
          "text": [
            "MNIST loaded:  60000 training samples, 10000 test samples\n"
          ]
        }
      ]
    },
    {
      "cell_type": "code",
      "source": [
        "class SparseLinear(nn.Module):\n",
        "    def __init__(self, in_features, out_features, epsilon):\n",
        "        super().__init__()\n",
        "        self.in_features = in_features\n",
        "        self.out_features = out_features\n",
        "        self.epsilon = epsilon\n",
        "\n",
        "        self.weight = nn.Parameter(torch.zeros(out_features, in_features))\n",
        "        self.mask = torch.zeros_like(self.weight)\n",
        "\n",
        "        self.reset_parameters()\n",
        "\n",
        "    def reset_parameters(self):\n",
        "        # Erdős–Rényi sparse initialization\n",
        "        prob = self.epsilon * (self.in_features + self.out_features) / (self.in_features * self.out_features)\n",
        "        mask = torch.rand_like(self.weight) < prob\n",
        "        self.mask = mask.float()\n",
        "        self.weight.data = torch.randn_like(self.weight) * 0.1 * self.mask\n",
        "\n",
        "    def forward(self, x):\n",
        "        return F.linear(x, self.weight * self.mask)\n",
        "\n"
      ],
      "metadata": {
        "id": "FY_jKadPwWL4"
      },
      "execution_count": 18,
      "outputs": []
    },
    {
      "cell_type": "code",
      "source": [
        "class SETModel(nn.Module):\n",
        "    def __init__(self, epsilon):\n",
        "        super().__init__()\n",
        "        self.fc1 = SparseLinear(784, 300, epsilon)\n",
        "        self.fc2 = SparseLinear(300, 100, epsilon)\n",
        "        self.fc3 = nn.Linear(100, 10)  # Final dense output layer\n",
        "\n",
        "    def forward(self, x):\n",
        "        x = x.view(-1, 28 * 28)  # Flatten 28x28 image to 784-dim vector\n",
        "        x = F.relu(self.fc1(x))\n",
        "        x = F.relu(self.fc2(x))\n",
        "        x = self.fc3(x)\n",
        "        return x"
      ],
      "metadata": {
        "id": "NkDvQvvEwt93"
      },
      "execution_count": 19,
      "outputs": []
    },
    {
      "cell_type": "code",
      "source": [
        "def evolve_layer(layer, zeta):\n",
        "    weight = layer.weight.data\n",
        "    mask = layer.mask\n",
        "\n",
        "    # Step 1: Get magnitude of active weights only\n",
        "    scores = torch.abs(weight * mask)\n",
        "\n",
        "    # Step 2: Compute pruning threshold (zeta = % to prune)\n",
        "    threshold = torch.quantile(scores[scores != 0], zeta)\n",
        "\n",
        "    # Step 3: Prune connections below threshold\n",
        "    prune_mask = (scores <= threshold).float()\n",
        "    keep_mask = (scores > threshold).float()\n",
        "\n",
        "    # Step 4: Regrow new random connections where pruned\n",
        "    new_connections = (torch.rand_like(mask) < prune_mask).float()\n",
        "\n",
        "    # Final mask: keep existing + regrow - overlap\n",
        "    layer.mask = keep_mask + new_connections - (keep_mask * new_connections)\n",
        "    layer.weight.data *= layer.mask\n"
      ],
      "metadata": {
        "id": "A0mkuIH6w7IG"
      },
      "execution_count": 20,
      "outputs": []
    },
    {
      "cell_type": "code",
      "source": [
        "def train(model, optimizer, criterion, loader):\n",
        "    model.train()\n",
        "    total_loss = 0\n",
        "\n",
        "    for images, labels in loader:\n",
        "        images, labels = images.to(device), labels.to(device)\n",
        "        optimizer.zero_grad()\n",
        "        outputs = model(images)\n",
        "        loss = criterion(outputs, labels)\n",
        "        loss.backward()\n",
        "        optimizer.step()\n",
        "        total_loss += loss.item()\n",
        "\n",
        "    return total_loss / len(loader)\n"
      ],
      "metadata": {
        "id": "5g3TFuN3xCKU"
      },
      "execution_count": 21,
      "outputs": []
    },
    {
      "cell_type": "code",
      "source": [
        "def evaluate(model, loader):\n",
        "    model.eval()\n",
        "    correct = 0\n",
        "    total = 0\n",
        "\n",
        "    with torch.no_grad():\n",
        "        for images, labels in loader:\n",
        "            images, labels = images.to(device), labels.to(device)\n",
        "            outputs = model(images)\n",
        "            _, predicted = torch.max(outputs, 1)\n",
        "            total += labels.size(0)\n",
        "            correct += (predicted == labels).sum().item()\n",
        "\n",
        "    return 100 * correct / total\n"
      ],
      "metadata": {
        "id": "vHYmsByAxJGj"
      },
      "execution_count": 22,
      "outputs": []
    },
    {
      "cell_type": "code",
      "source": [
        "epsilon = 20   # Controls initial sparsity\n",
        "zeta = 0.3     # % of weights to prune each epoch\n",
        "epochs = 20    # You can reduce to 10 if testing\n",
        "\n",
        "model = SETModel(epsilon).to(device)\n",
        "criterion = nn.CrossEntropyLoss()\n",
        "optimizer = torch.optim.Adam(model.parameters(), lr=0.001)\n",
        "\n",
        "train_accs, test_accs = [], []\n",
        "\n",
        "for epoch in range(epochs):\n",
        "    loss = train(model, optimizer, criterion, train_loader)\n",
        "\n",
        "    # Sparse rewiring (evolution)\n",
        "    evolve_layer(model.fc1, zeta)\n",
        "    evolve_layer(model.fc2, zeta)\n",
        "\n",
        "    train_acc = evaluate(model, train_loader)\n",
        "    test_acc = evaluate(model, test_loader)\n",
        "\n",
        "    train_accs.append(train_acc)\n",
        "    test_accs.append(test_acc)\n",
        "\n",
        "    print(f\"Epoch {epoch+1}/{epochs} → Loss: {loss:.4f} | Train Acc: {train_acc:.2f}% | Test Acc: {test_acc:.2f}%\")\n"
      ],
      "metadata": {
        "colab": {
          "base_uri": "https://localhost:8080/"
        },
        "id": "oDuR_h2IxWSS",
        "outputId": "a1da306e-76dc-4068-d1a7-70aafcb7cebf"
      },
      "execution_count": 23,
      "outputs": [
        {
          "output_type": "stream",
          "name": "stdout",
          "text": [
            "Epoch 1/20 → Loss: 0.6085 | Train Acc: 92.45% | Test Acc: 92.56%\n",
            "Epoch 2/20 → Loss: 0.1670 | Train Acc: 97.52% | Test Acc: 96.85%\n",
            "Epoch 3/20 → Loss: 0.0763 | Train Acc: 98.33% | Test Acc: 97.37%\n",
            "Epoch 4/20 → Loss: 0.0519 | Train Acc: 98.68% | Test Acc: 97.70%\n",
            "Epoch 5/20 → Loss: 0.0361 | Train Acc: 99.31% | Test Acc: 98.07%\n",
            "Epoch 6/20 → Loss: 0.0269 | Train Acc: 99.46% | Test Acc: 98.14%\n",
            "Epoch 7/20 → Loss: 0.0193 | Train Acc: 99.47% | Test Acc: 97.94%\n",
            "Epoch 8/20 → Loss: 0.0175 | Train Acc: 99.64% | Test Acc: 98.31%\n",
            "Epoch 9/20 → Loss: 0.0162 | Train Acc: 99.66% | Test Acc: 97.98%\n",
            "Epoch 10/20 → Loss: 0.0144 | Train Acc: 99.55% | Test Acc: 97.91%\n",
            "Epoch 11/20 → Loss: 0.0105 | Train Acc: 99.56% | Test Acc: 98.01%\n",
            "Epoch 12/20 → Loss: 0.0086 | Train Acc: 99.61% | Test Acc: 98.03%\n",
            "Epoch 13/20 → Loss: 0.0114 | Train Acc: 99.83% | Test Acc: 98.13%\n",
            "Epoch 14/20 → Loss: 0.0077 | Train Acc: 99.73% | Test Acc: 98.10%\n",
            "Epoch 15/20 → Loss: 0.0062 | Train Acc: 99.91% | Test Acc: 98.26%\n",
            "Epoch 16/20 → Loss: 0.0095 | Train Acc: 99.66% | Test Acc: 98.04%\n",
            "Epoch 17/20 → Loss: 0.0083 | Train Acc: 99.80% | Test Acc: 98.11%\n",
            "Epoch 18/20 → Loss: 0.0101 | Train Acc: 99.77% | Test Acc: 98.02%\n",
            "Epoch 19/20 → Loss: 0.0047 | Train Acc: 99.94% | Test Acc: 98.26%\n",
            "Epoch 20/20 → Loss: 0.0043 | Train Acc: 99.80% | Test Acc: 98.14%\n"
          ]
        }
      ]
    },
    {
      "cell_type": "code",
      "source": [
        "plt.plot(train_accs, label='Train Accuracy')\n",
        "plt.plot(test_accs, label='Test Accuracy')\n",
        "plt.xlabel('Epoch')\n",
        "plt.ylabel('Accuracy (%)')\n",
        "plt.title('SET on MNIST Accuracy Over Time')\n",
        "plt.grid(True)\n",
        "plt.legend()\n",
        "plt.show()\n"
      ],
      "metadata": {
        "colab": {
          "base_uri": "https://localhost:8080/",
          "height": 472
        },
        "id": "jIENegU4zsfg",
        "outputId": "29d80096-1130-4886-904b-b8d6d64e4061"
      },
      "execution_count": 24,
      "outputs": [
        {
          "output_type": "display_data",
          "data": {
            "text/plain": [
              "<Figure size 640x480 with 1 Axes>"
            ],
            "image/png": "[encoded data removed]"
          },
          "metadata": {}
        }
      ]
    }
  ]
}